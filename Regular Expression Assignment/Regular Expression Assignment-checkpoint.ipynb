{
 "cells": [
  {
   "cell_type": "code",
   "execution_count": 1,
   "id": "fb5644d4",
   "metadata": {},
   "outputs": [
    {
     "name": "stdout",
     "output_type": "stream",
     "text": [
      "Python:Exercises::PHP:exercises:\n"
     ]
    }
   ],
   "source": [
    "#Write a Python program to replace all occurrences of a space, comma, or dot with a colon.\n",
    "#Sample Text- 'Python Exercises, PHP exercises.'\n",
    "#Expected Output: Python:Exercises::PHP:exercises:\n",
    "\n",
    "def replace(text):\n",
    "    replacements = [' ', ',', '.']\n",
    "    for char in replacements:\n",
    "        text = text.replace(char, ':')\n",
    "    return text\n",
    "\n",
    "text = 'Python Exercises, PHP exercises.'\n",
    "print(replace(text))"
   ]
  },
  {
   "cell_type": "code",
   "execution_count": 2,
   "id": "e14b8924",
   "metadata": {},
   "outputs": [
    {
     "name": "stdout",
     "output_type": "stream",
     "text": [
      "['Adam', 'and', 'Eve', 'enjoying', 'Evening']\n"
     ]
    }
   ],
   "source": [
    "#Question 2-  Write a Python program to find all words starting with 'a' or 'e' in a given string.\n",
    "\n",
    "import re\n",
    "\n",
    "def a_or_e(text):\n",
    "    words = re.findall(r'\\b[aeAE]\\w+\\b', text)\n",
    "    return words\n",
    "\n",
    "sample_text = \"Adam and Eve enjoying the Evening.\"\n",
    "print(a_or_e(sample_text))"
   ]
  },
  {
   "cell_type": "code",
   "execution_count": 3,
   "id": "77087933",
   "metadata": {},
   "outputs": [
    {
     "name": "stdout",
     "output_type": "stream",
     "text": [
      "['Dogs', 'best', 'friend']\n"
     ]
    }
   ],
   "source": [
    "#Question 3- Create a function in python to find all words that are at least 4 characters long in a string. The use of the re.compile() method is mandatory.\n",
    "\n",
    "import re\n",
    "\n",
    "def long_words(text):\n",
    "    pattern = re.compile(r'\\b\\w{4,}\\b')\n",
    "    words = pattern.findall(text)\n",
    "    return words\n",
    "\n",
    "text1 = \"Dogs are men's best friend.\"\n",
    "print(long_words(text1))"
   ]
  },
  {
   "cell_type": "code",
   "execution_count": 4,
   "id": "dfea4cc0",
   "metadata": {},
   "outputs": [
    {
     "name": "stdout",
     "output_type": "stream",
     "text": [
      "['This', 'great', 'day']\n"
     ]
    }
   ],
   "source": [
    "#Question 4- Create a function in python to find all three, four, and five character words in a string. The use of the re.compile() method is mandatory.\n",
    "\n",
    "import re\n",
    "\n",
    "def find_length(text):\n",
    "    pattern = re.compile(r'\\b\\w{3,5}\\b')\n",
    "    length = pattern.findall(text)\n",
    "    return length\n",
    "\n",
    "text2 = \"This is a great day.\"\n",
    "print(find_length(text2))"
   ]
  },
  {
   "cell_type": "code",
   "execution_count": 5,
   "id": "7a3e441a",
   "metadata": {},
   "outputs": [
    {
     "name": "stdout",
     "output_type": "stream",
     "text": [
      "example\n",
      "hr@fliprobo\n",
      "github\n",
      "Hello \n",
      "Data \n"
     ]
    }
   ],
   "source": [
    "#Question 5- Create a function in Python to remove the parenthesis in a list of strings. The use of the re.compile() method is mandatory.\n",
    "#Sample Text: [\"example (.com)\", \"hr@fliprobo (.com)\", \"github (.com)\", \"Hello (Data Science World)\", \"Data (Scientist)\"]\n",
    "#Expected Output:\n",
    "#example.com\n",
    "#hr@fliprobo.com\n",
    "#github.com\n",
    "#Hello Data Science World\n",
    "#Data Scientist\n",
    "\n",
    "import re\n",
    "\n",
    "def remove_parentheses(strings):\n",
    "    pattern = re.compile(r'\\([^)]*\\)')\n",
    "    clean_strings = [pattern.sub('', s) for s in strings]\n",
    "    return clean_strings\n",
    "\n",
    "sample_text = [\"example(.com)\", \"hr@fliprobo(.com)\", \"github(.com)\", \"Hello (Data Science World)\", \"Data (Scientist)\"]\n",
    "result = remove_parentheses(sample_text)\n",
    "for item in result:\n",
    "    print(item)"
   ]
  },
  {
   "cell_type": "code",
   "execution_count": 9,
   "id": "40f7a878",
   "metadata": {},
   "outputs": [
    {
     "name": "stdout",
     "output_type": "stream",
     "text": [
      "[\"example\", \"hr@fliprobo\", \"github\", \"Hello\", \"Data\"]\n"
     ]
    }
   ],
   "source": [
    "#Question 6- Write a python program to remove the parenthesis area from the text stored in the text file using Regular Expression.\n",
    "#Sample Text: [\"example (.com)\", \"hr@fliprobo (.com)\", \"github (.com)\", \"Hello (Data Science World)\", \"Data (Scientist)\"]\n",
    "#Expected Output: [\"example\", \"hr@fliprobo\", \"github\", \"Hello\", \"Data\"]\n",
    "#Note- Store given sample text in the text file and then to remove the parenthesis area from the text.\n",
    "\n",
    "import re\n",
    "\n",
    "def remove_parentheses(text):\n",
    "    pattern = re.compile(r'\\s?\\([^)]*\\)')\n",
    "    return pattern.sub('', text)\n",
    "\n",
    "input_filename = r'C:\\Users\\hp\\desktop\\Prit.txt'\n",
    "\n",
    "\n",
    "with open(input_filename, 'r') as input_file:\n",
    "    lines = input_file.readlines()\n",
    "\n",
    "modified_lines = [remove_parentheses(line.strip()) for line in lines]\n",
    "\n",
    "for line in modified_lines:\n",
    "    print(line)"
   ]
  },
  {
   "cell_type": "code",
   "execution_count": 10,
   "id": "8c381756",
   "metadata": {},
   "outputs": [
    {
     "name": "stdout",
     "output_type": "stream",
     "text": [
      "['Importance', 'Of', 'Regular', 'Expressions', 'In', 'Python']\n"
     ]
    }
   ],
   "source": [
    "#Question 7- Write a regular expression in Python to split a string into uppercase letters.\n",
    "#Sample text: “ImportanceOfRegularExpressionsInPython”\n",
    "#Expected Output: [‘Importance’, ‘Of’, ‘Regular’, ‘Expression’, ‘In’, ‘Python’]\n",
    "\n",
    "import re\n",
    "\n",
    "sample_text = \"ImportanceOfRegularExpressionsInPython\"\n",
    "words = re.findall(r'[A-Z][a-z]*', sample_text)\n",
    "\n",
    "print(words)"
   ]
  },
  {
   "cell_type": "code",
   "execution_count": 11,
   "id": "a5d07a3e",
   "metadata": {},
   "outputs": [
    {
     "name": "stdout",
     "output_type": "stream",
     "text": [
      "RegularExpression1 IsAn2 ImportantTopic3 InPython\n"
     ]
    }
   ],
   "source": [
    "#Question 8- Create a function in python to insert spaces between words starting with numbers.\n",
    "#Sample Text: “RegularExpression1IsAn2ImportantTopic3InPython\"\n",
    "#Expected Output: RegularExpression 1IsAn 2ImportantTopic 3InPython\n",
    "\n",
    "import re\n",
    "\n",
    "def insert_spaces(text):\n",
    "    pattern = re.compile(r'(?<=\\d)(?=[A-Z])')\n",
    "    modified_text = pattern.sub(' ', text)\n",
    "    return modified_text\n",
    "\n",
    "text_re = \"RegularExpression1IsAn2ImportantTopic3InPython\"\n",
    "result = insert_spaces(text_re)\n",
    "print(result)"
   ]
  },
  {
   "cell_type": "code",
   "execution_count": 12,
   "id": "e52a5112",
   "metadata": {},
   "outputs": [
    {
     "name": "stdout",
     "output_type": "stream",
     "text": [
      "RegularExpression1 IsAn2 ImportantTopic3 InPython\n"
     ]
    }
   ],
   "source": [
    "#Question 9- Create a function in python to insert spaces between words starting with capital letters or with numbers.\n",
    "#Sample Text: “RegularExpression1IsAn2ImportantTopic3InPython\"\n",
    "#Expected Output:  RegularExpression 1 IsAn 2 ImportantTopic 3 InPython\n",
    "\n",
    "import re\n",
    "\n",
    "def insert_spaces(text):\n",
    "    pattern = re.compile(r'(?<=\\d|[A-Z])(?=[A-Z])')\n",
    "    modified_text = pattern.sub(' ', text)\n",
    "    return modified_text\n",
    "\n",
    "text5 = \"RegularExpression1IsAn2ImportantTopic3InPython\"\n",
    "result = insert_spaces(text5)\n",
    "print(result)"
   ]
  },
  {
   "cell_type": "code",
   "execution_count": 13,
   "id": "7206355c",
   "metadata": {},
   "outputs": [
    {
     "name": "stdout",
     "output_type": "stream",
     "text": [
      "xyz@domain.com\n",
      "xyz.abc@sdomain.domain.com\n",
      "hr@fliprobo.com\n"
     ]
    }
   ],
   "source": [
    "#Question 10- Write a python program to extract email address from the text stored in the text file using Regular Expression.\n",
    "#Sample Text- Hello my name is Data Science and my email address is xyz@domain.com and alternate email address is xyz.abc@sdomain.domain.com. \n",
    "#Please contact us at hr@fliprobo.com for further information. \n",
    "#Expected Output: \n",
    "#['xyz@domain.com', 'xyz.abc@sdomain.domain.com']\n",
    "#['hr@fliprobo.com']\n",
    "#Note- Store given sample text in the text file and then extract email addresses.\n",
    "\n",
    "import re\n",
    "\n",
    "def extract_emails(text):\n",
    "    pattern = re.compile(r'\\b[A-Za-z0-9._%+-]+@[A-Za-z0-9.-]+\\.[A-Z|a-z]{2,7}\\b')\n",
    "    emails = pattern.findall(text)\n",
    "    return emails\n",
    "\n",
    "input_filename = r'C:\\Users\\hp\\desktop\\Prit.txt'\n",
    "\n",
    "with open(input_filename, 'r') as input_file:\n",
    "    content = input_file.read()\n",
    "\n",
    "extracted_emails = extract_emails(content)\n",
    "\n",
    "for email in extracted_emails:\n",
    "    print(email)"
   ]
  },
  {
   "cell_type": "code",
   "execution_count": 14,
   "id": "fb450993",
   "metadata": {},
   "outputs": [
    {
     "name": "stdout",
     "output_type": "stream",
     "text": [
      "'Valid_String123' is a valid string.\n",
      "'Another_Valid_String' is a valid string.\n",
      "'Invalid$String' is not a valid string.\n",
      "'yet_another_valid_123' is a valid string.\n",
      "'Invalid-String' is not a valid string.\n"
     ]
    }
   ],
   "source": [
    "#Question 11- Write a Python program to match a string that contains only upper and lowercase letters, numbers, and underscores.\n",
    "\n",
    "import re\n",
    "\n",
    "def is_valid_string(text):\n",
    "    pattern = re.compile(r'^[A-Za-z0-9_]+$')\n",
    "    return pattern.match(text) is not None\n",
    "\n",
    "test_strings = [\n",
    "    \"Valid_String123\",\n",
    "    \"Another_Valid_String\",\n",
    "    \"Invalid$String\",\n",
    "    \"yet_another_valid_123\",\n",
    "    \"Invalid-String\"\n",
    "]\n",
    "\n",
    "for test_string in test_strings:\n",
    "    if is_valid_string(test_string):\n",
    "        print(f\"'{test_string}' is a valid string.\")\n",
    "    else:\n",
    "        print(f\"'{test_string}' is not a valid string.\")"
   ]
  },
  {
   "cell_type": "code",
   "execution_count": 15,
   "id": "34af7c0d",
   "metadata": {},
   "outputs": [
    {
     "name": "stdout",
     "output_type": "stream",
     "text": [
      "The input string starts with the number 42.\n"
     ]
    }
   ],
   "source": [
    "#Question 12- Write a Python program where a string will start with a specific number. \n",
    "\n",
    "def starts_with_number(string, number):\n",
    "    return string.startswith(str(number))\n",
    "\n",
    "input_string = \"42 is the answer to everything.\"\n",
    "specific_number = 42\n",
    "\n",
    "if starts_with_number(input_string, specific_number):\n",
    "    print(f\"The input string starts with the number {specific_number}.\")\n",
    "else:\n",
    "    print(f\"The input string does not start with the number {specific_number}.\")"
   ]
  },
  {
   "cell_type": "code",
   "execution_count": 16,
   "id": "00af11ca",
   "metadata": {},
   "outputs": [
    {
     "name": "stdout",
     "output_type": "stream",
     "text": [
      "Original IP address: 192.168.001.010\n",
      "IP address without leading zeros: 192.168.1.10\n"
     ]
    }
   ],
   "source": [
    "#Question 13- Write a Python program to remove leading zeros from an IP address\n",
    "\n",
    "import re\n",
    "\n",
    "def remove_leading_zeros(ip_address):\n",
    "    # Use regular expression to remove leading zeros from each part of the IP address\n",
    "    cleaned_parts = [str(int(part)) for part in ip_address.split('.')]\n",
    "    cleaned_ip = '.'.join(cleaned_parts)\n",
    "    return cleaned_ip\n",
    "\n",
    "ip_address = \"192.168.001.010\"\n",
    "cleaned_ip = remove_leading_zeros(ip_address)\n",
    "print(\"Original IP address:\", ip_address)\n",
    "print(\"IP address without leading zeros:\", cleaned_ip)"
   ]
  },
  {
   "cell_type": "code",
   "execution_count": 17,
   "id": "e96ab594",
   "metadata": {},
   "outputs": [
    {
     "name": "stdout",
     "output_type": "stream",
     "text": [
      "August 15th 1947\n"
     ]
    }
   ],
   "source": [
    "#Question 14- Write a regular expression in python to match a date string in the form of Month name followed by day number and year stored in a text file.\n",
    "#Sample text :  ' On August 15th 1947 that India was declared independent from British colonialism, and the reins of control were handed over to the leaders of the Country’.\n",
    "#Expected Output- August 15th 1947\n",
    "#Note- Store given sample text in the text file and then extract the date string asked format.\n",
    "\n",
    "import re\n",
    "\n",
    "def extract_dates(text):\n",
    "    pattern = re.compile(r'\\b\\w+\\s\\d{1,2}(?:st|nd|rd|th)\\s\\d{4}\\b')\n",
    "    dates = pattern.findall(text)\n",
    "    return dates\n",
    "\n",
    "input_filename = r'C:\\Users\\hp\\desktop\\Prit.txt'\n",
    "\n",
    "with open(input_filename, 'r') as input_file:\n",
    "    content = input_file.read()\n",
    "\n",
    "extracted_dates = extract_dates(content)\n",
    "\n",
    "for date in extracted_dates:\n",
    "    print(date)"
   ]
  },
  {
   "cell_type": "code",
   "execution_count": 18,
   "id": "48b41516",
   "metadata": {},
   "outputs": [
    {
     "name": "stdout",
     "output_type": "stream",
     "text": [
      "'fox' found in the text.\n",
      "'dog' found in the text.\n"
     ]
    }
   ],
   "source": [
    "#Question 15- Write a Python program to search some literals strings in a string. \n",
    "#Sample text : 'The quick brown fox jumps over the lazy dog.'\n",
    "#Searched words : 'fox', 'dog', 'horse'\n",
    "\n",
    "def search_words(text, words_to_search):\n",
    "    found_words = []\n",
    "    for word in words_to_search:\n",
    "        if word in text:\n",
    "            found_words.append(word)\n",
    "    return found_words\n",
    "\n",
    "sample_text = 'The quick brown fox jumps over the lazy dog.'\n",
    "searched_words = ['fox', 'dog', 'horse']\n",
    "\n",
    "found_words = search_words(sample_text, searched_words)\n",
    "\n",
    "for word in found_words:\n",
    "    print(f\"'{word}' found in the text.\")"
   ]
  },
  {
   "cell_type": "code",
   "execution_count": 19,
   "id": "f7a806ba",
   "metadata": {},
   "outputs": [
    {
     "name": "stdout",
     "output_type": "stream",
     "text": [
      "'fox' found at positions: [16]\n"
     ]
    }
   ],
   "source": [
    "#Question 16- Write a Python program to search a literals string in a string and also find the location within the original string where the pattern occurs\n",
    "#Sample text : 'The quick brown fox jumps over the lazy dog.'\n",
    "#Searched words : 'fox'\n",
    "\n",
    "def search_and_locate(text, word):\n",
    "    positions = []\n",
    "    start = 0\n",
    "    while start < len(text):\n",
    "        position = text.find(word, start)\n",
    "        if position == -1:\n",
    "            break\n",
    "        positions.append(position)\n",
    "        start = position + 1\n",
    "    return positions\n",
    "\n",
    "sample_text = 'The quick brown fox jumps over the lazy dog.'\n",
    "searched_word = 'fox'\n",
    "\n",
    "positions = search_and_locate(sample_text, searched_word)\n",
    "\n",
    "if positions:\n",
    "    print(f\"'{searched_word}' found at positions: {positions}\")\n",
    "else:\n",
    "    print(f\"'{searched_word}' not found in the text.\")\n"
   ]
  },
  {
   "cell_type": "code",
   "execution_count": 20,
   "id": "a425b84d",
   "metadata": {},
   "outputs": [
    {
     "name": "stdout",
     "output_type": "stream",
     "text": [
      "'exercises' found at positions: [7, 22, 36]\n"
     ]
    }
   ],
   "source": [
    "#Question 17- Write a Python program to find the substrings within a string.\n",
    "#Sample text : 'Python exercises, PHP exercises, C# exercises'\n",
    "#Pattern : 'exercises'.\n",
    "\n",
    "def find_substrings(text, pattern):\n",
    "    positions = []\n",
    "    start = 0\n",
    "    while start < len(text):\n",
    "        position = text.find(pattern, start)\n",
    "        if position == -1:\n",
    "            break\n",
    "        positions.append(position)\n",
    "        start = position + 1\n",
    "    return positions\n",
    "\n",
    "sample_text = 'Python exercises, PHP exercises, C# exercises'\n",
    "pattern = 'exercises'\n",
    "\n",
    "positions = find_substrings(sample_text, pattern)\n",
    "\n",
    "if positions:\n",
    "    print(f\"'{pattern}' found at positions: {positions}\")\n",
    "else:\n",
    "    print(f\"'{pattern}' not found in the text.\")"
   ]
  },
  {
   "cell_type": "code",
   "execution_count": 21,
   "id": "f65e7c94",
   "metadata": {},
   "outputs": [
    {
     "name": "stdout",
     "output_type": "stream",
     "text": [
      "'exercises' found at positions: [7, 22, 36]\n",
      "Total occurrences: 3\n"
     ]
    }
   ],
   "source": [
    "#Question 18- Write a Python program to find the occurrence and position of the substrings within a string.\n",
    "\n",
    "def find_substring_occurrences(text, substring):\n",
    "    positions = []\n",
    "    start = 0\n",
    "    while start < len(text):\n",
    "        position = text.find(substring, start)\n",
    "        if position == -1:\n",
    "            break\n",
    "        positions.append(position)\n",
    "        start = position + 1\n",
    "    return positions\n",
    "\n",
    "def main():\n",
    "    sample_text = 'Python exercises, PHP exercises, C# exercises'\n",
    "    substring = 'exercises'\n",
    "\n",
    "    positions = find_substring_occurrences(sample_text, substring)\n",
    "\n",
    "    if positions:\n",
    "        print(f\"'{substring}' found at positions: {positions}\")\n",
    "        print(f\"Total occurrences: {len(positions)}\")\n",
    "    else:\n",
    "        print(f\"'{substring}' not found in the text.\")\n",
    "\n",
    "if __name__ == \"__main__\":\n",
    "    main()"
   ]
  },
  {
   "cell_type": "code",
   "execution_count": 22,
   "id": "99a6745a",
   "metadata": {},
   "outputs": [
    {
     "name": "stdout",
     "output_type": "stream",
     "text": [
      "Original date: 2023-08-19\n",
      "Converted date: 19-08-2023\n"
     ]
    }
   ],
   "source": [
    "#Question 19- Write a Python program to convert a date of yyyy-mm-dd format to dd-mm-yyyy format.\n",
    "\n",
    "from datetime import datetime\n",
    "\n",
    "def convert_date_format(date_string):\n",
    "    try:\n",
    "        original_date = datetime.strptime(date_string, '%Y-%m-%d')\n",
    "        converted_date = original_date.strftime('%d-%m-%Y')\n",
    "        return converted_date\n",
    "    except ValueError:\n",
    "        return None\n",
    "\n",
    "date_yyyy_mm_dd = \"2023-08-19\"\n",
    "converted_date = convert_date_format(date_yyyy_mm_dd)\n",
    "\n",
    "if converted_date:\n",
    "    print(f\"Original date: {date_yyyy_mm_dd}\")\n",
    "    print(f\"Converted date: {converted_date}\")\n",
    "else:\n",
    "    print(f\"Invalid date format: {date_yyyy_mm_dd}\")\n"
   ]
  },
  {
   "cell_type": "code",
   "execution_count": 23,
   "id": "d31d2a8c",
   "metadata": {},
   "outputs": [
    {
     "name": "stdout",
     "output_type": "stream",
     "text": [
      "['3.5', '15.25', '2.1']\n"
     ]
    }
   ],
   "source": [
    "#Question 20- Create a function in python to find all decimal numbers with a precision of 1 or 2 in a string. The use of the re.compile() method is mandatory.\n",
    "\n",
    "import re\n",
    "\n",
    "def find_decimal_numbers(text):\n",
    "    pattern = re.compile(r'\\b\\d+\\.\\d{1,2}\\b')\n",
    "    decimal_numbers = pattern.findall(text)\n",
    "    return decimal_numbers\n",
    "\n",
    "sample_text = \"The prices are 3.5, 15.25, and 2.1 dollars.\"\n",
    "result = find_decimal_numbers(sample_text)\n",
    "print(result)"
   ]
  },
  {
   "cell_type": "code",
   "execution_count": 24,
   "id": "a3aa8bb7",
   "metadata": {},
   "outputs": [
    {
     "name": "stdout",
     "output_type": "stream",
     "text": [
      "Number: 1, Position: 3\n",
      "Number: 2, Position: 4\n",
      "Number: 3, Position: 5\n",
      "Number: 4, Position: 9\n",
      "Number: 5, Position: 10\n",
      "Number: 6, Position: 11\n",
      "Number: 7, Position: 15\n",
      "Number: 8, Position: 16\n",
      "Number: 9, Position: 17\n"
     ]
    }
   ],
   "source": [
    "#Question 21- Write a Python program to separate and print the numbers and their position of a given string.\n",
    "\n",
    "def separate_numbers(text):\n",
    "    numbers = []\n",
    "    for index, char in enumerate(text):\n",
    "        if char.isdigit():\n",
    "            numbers.append((char, index))\n",
    "    return numbers\n",
    "\n",
    "sample_text = \"abc123def456ghi789\"\n",
    "numbers_and_positions = separate_numbers(sample_text)\n",
    "\n",
    "for number, position in numbers_and_positions:\n",
    "    print(f\"Number: {number}, Position: {position}\")"
   ]
  },
  {
   "cell_type": "code",
   "execution_count": 25,
   "id": "92dc6541",
   "metadata": {},
   "outputs": [
    {
     "name": "stdout",
     "output_type": "stream",
     "text": [
      "The maximum numeric value is: 950\n"
     ]
    }
   ],
   "source": [
    "#Question 22- Write a regular expression in python program to extract maximum/largest numeric value from a string.\n",
    "#Sample Text:  'My marks in each semester are: 947, 896, 926, 524, 734, 950, 642'\n",
    "#Expected Output: 950\n",
    "\n",
    "\n",
    "import re\n",
    "\n",
    "def extract_maximum_numeric_value(text):\n",
    "    numbers = re.findall(r'\\b\\d+\\b', text)\n",
    "    if numbers:\n",
    "        max_number = max(map(int, numbers))\n",
    "        return max_number\n",
    "    return None\n",
    "\n",
    "sample_text = 'My marks in each semester are: 947, 896, 926, 524, 734, 950, 642'\n",
    "max_numeric_value = extract_maximum_numeric_value(sample_text)\n",
    "\n",
    "if max_numeric_value is not None:\n",
    "    print(f\"The maximum numeric value is: {max_numeric_value}\")\n",
    "else:\n",
    "    print(\"No numeric values found in the text.\")"
   ]
  },
  {
   "cell_type": "code",
   "execution_count": 26,
   "id": "eea074d9",
   "metadata": {},
   "outputs": [
    {
     "name": "stdout",
     "output_type": "stream",
     "text": [
      "Regular Expression Is An Important Topic In Python\n"
     ]
    }
   ],
   "source": [
    "#Question 23- Create a function in python to insert spaces between words starting with capital letters.\n",
    "#Sample Text: “RegularExpressionIsAnImportantTopicInPython\"\n",
    "#Expected Output: Regular Expression Is An Important Topic In Python\n",
    "\n",
    "import re\n",
    "\n",
    "def insert_spaces(text):\n",
    "    modified_text = re.sub(r'(?<=[a-z])([A-Z])', r' \\1', text)\n",
    "    return modified_text\n",
    "\n",
    "sample_text = \"RegularExpressionIsAnImportantTopicInPython\"\n",
    "result = insert_spaces(sample_text)\n",
    "print(result)"
   ]
  },
  {
   "cell_type": "code",
   "execution_count": 27,
   "id": "2eb940bb",
   "metadata": {},
   "outputs": [
    {
     "name": "stdout",
     "output_type": "stream",
     "text": [
      "['Aa', 'Bc', 'De', 'Xy']\n"
     ]
    }
   ],
   "source": [
    "#Question 24- Python regex to find sequences of one upper case letter followed by lower case \n",
    "\n",
    "import re\n",
    "\n",
    "text = \"Aa Bc CDe XyZ\"\n",
    "\n",
    "pattern = re.compile(r'[A-Z][a-z]+')\n",
    "matches = pattern.findall(text)\n",
    "\n",
    "print(matches)"
   ]
  },
  {
   "cell_type": "code",
   "execution_count": 28,
   "id": "456a0bad",
   "metadata": {},
   "outputs": [
    {
     "name": "stdout",
     "output_type": "stream",
     "text": [
      "Hello world\n"
     ]
    }
   ],
   "source": [
    "#Question 25- Write a Python program to remove continuous duplicate words from Sentence using Regular Expression.\n",
    "#Sample Text: \"Hello hello world world\"\n",
    "#Expected Output: Hello hello world\n",
    "\n",
    "import re\n",
    "\n",
    "def remove_continuous_duplicates(sentence):\n",
    "    pattern = re.compile(r'\\b(\\w+)\\s+\\1\\b', re.IGNORECASE)\n",
    "    cleaned_sentence = pattern.sub(r'\\1', sentence)\n",
    "    return cleaned_sentence\n",
    "\n",
    "sample_text = \"Hello hello world world\"\n",
    "cleaned_text = remove_continuous_duplicates(sample_text)\n",
    "print(cleaned_text)"
   ]
  },
  {
   "cell_type": "code",
   "execution_count": 29,
   "id": "bc811f99",
   "metadata": {},
   "outputs": [
    {
     "name": "stdout",
     "output_type": "stream",
     "text": [
      "'Hello123' is valid.\n",
      "'Python' is valid.\n",
      "'Test_' is not valid.\n",
      "'42' is valid.\n",
      "'SampleText!' is not valid.\n"
     ]
    }
   ],
   "source": [
    "#Question 26-  Write a python program using RegEx to accept string ending with alphanumeric character.\n",
    "\n",
    "import re\n",
    "\n",
    "def validate_string(string):\n",
    "    pattern = re.compile(r'^.*[a-zA-Z0-9]$')\n",
    "    return pattern.match(string) is not None\n",
    "\n",
    "test_strings = [\n",
    "    \"Hello123\",\n",
    "    \"Python\",\n",
    "    \"Test_\",\n",
    "    \"42\",\n",
    "    \"SampleText!\"\n",
    "]\n",
    "\n",
    "for test_string in test_strings:\n",
    "    if validate_string(test_string):\n",
    "        print(f\"'{test_string}' is valid.\")\n",
    "    else:\n",
    "        print(f\"'{test_string}' is not valid.\")"
   ]
  },
  {
   "cell_type": "code",
   "execution_count": 30,
   "id": "737be7a6",
   "metadata": {},
   "outputs": [
    {
     "name": "stdout",
     "output_type": "stream",
     "text": [
      "['#Doltiwal', '#xyzabc', '#Demonetization']\n"
     ]
    }
   ],
   "source": [
    "#Question 27-Write a python program using RegEx to extract the hashtags.\n",
    "#Sample Text:  \"\"\"RT @kapil_kausik: #Doltiwal I mean #xyzabc is \"hurt\" by #Demonetization as the same has rendered USELESS <ed><U+00A0><U+00BD><ed><U+00B1><U+0089> \"acquired funds\" No wo\"\"\"\n",
    "#Expected Output: ['#Doltiwal', '#xyzabc', '#Demonetization']\n",
    "\n",
    "import re\n",
    "\n",
    "def extract_hashtags(text):\n",
    "    pattern = re.compile(r'#\\w+')\n",
    "    hashtags = pattern.findall(text)\n",
    "    return hashtags\n",
    "\n",
    "sample_text = \"\"\"RT @kapil_kausik: #Doltiwal I mean #xyzabc is \"hurt\" by #Demonetization as the same has rendered USELESS <ed><U+00A0><U+00BD><ed><U+00B1><U+0089> \"acquired funds\" No wo\"\"\"\n",
    "hashtags_list = extract_hashtags(sample_text)\n",
    "print(hashtags_list)"
   ]
  },
  {
   "cell_type": "code",
   "execution_count": 31,
   "id": "736676dc",
   "metadata": {},
   "outputs": [
    {
     "name": "stdout",
     "output_type": "stream",
     "text": [
      "@Jags123456 Bharat band on 28??<ed><ed>Those who  are protesting #demonetization  are all different party leaders\n"
     ]
    }
   ],
   "source": [
    "#Question 28- Write a python program using RegEx to remove <U+..> like symbols\n",
    "#Check the below sample text, there are strange symbols something of the sort <U+..> all over the place. You need to come up with a general Regex expression that will cover all such symbols.\n",
    "#Sample Text: \"@Jags123456 Bharat band on 28??<ed><U+00A0><U+00BD><ed><U+00B8><U+0082>Those who  are protesting #demonetization  are all different party leaders\"\n",
    "#Expected Output: @Jags123456 Bharat band on 28??<ed><ed>Those who  are protesting #demonetization  are all different party leaders\n",
    "\n",
    "import re\n",
    "\n",
    "def remove_special_symbols(text):\n",
    "    pattern = re.compile(r'<U\\+\\w{4}>')\n",
    "    cleaned_text = pattern.sub('', text)\n",
    "    return cleaned_text\n",
    "\n",
    "sample_text = \"@Jags123456 Bharat band on 28??<ed><U+00A0><U+00BD><ed><U+00B8><U+0082>Those who  are protesting #demonetization  are all different party leaders\"\n",
    "cleaned_text = remove_special_symbols(sample_text)\n",
    "print(cleaned_text)"
   ]
  },
  {
   "cell_type": "code",
   "execution_count": 32,
   "id": "0dd4d1e5",
   "metadata": {},
   "outputs": [
    {
     "name": "stdout",
     "output_type": "stream",
     "text": [
      "Extracted dates:\n",
      "12-09-1992\n",
      "15-12-1999\n"
     ]
    }
   ],
   "source": [
    "#Question 29- Write a python program to extract dates from the text stored in the text file.\n",
    "#Sample Text: Ron was born on 12-09-1992 and he was admitted to school 15-12-1999.\n",
    "#Note- Store this sample text in the file and then extract dates.\n",
    "\n",
    "import re\n",
    "\n",
    "def extract_dates_from_file(filename):\n",
    "    with open(filename, 'r') as file:\n",
    "        content = file.read()\n",
    "        pattern = re.compile(r'\\b\\d{2}-\\d{2}-\\d{4}\\b')\n",
    "        dates = pattern.findall(content)\n",
    "        return dates\n",
    "\n",
    "input_filename = r'C:\\Users\\hp\\desktop\\Prit.txt'\n",
    "\n",
    "extracted_dates = extract_dates_from_file(input_filename)\n",
    "\n",
    "if extracted_dates:\n",
    "    print(\"Extracted dates:\")\n",
    "    for date in extracted_dates:\n",
    "        print(date)\n",
    "else:\n",
    "    print(\"No dates found in the text.\")"
   ]
  },
  {
   "cell_type": "code",
   "execution_count": 33,
   "id": "43487d70",
   "metadata": {},
   "outputs": [
    {
     "name": "stdout",
     "output_type": "stream",
     "text": [
      " following example creates  ArrayList  a capacity   elements. 4 elements   added   ArrayList   ArrayList  trimmed accordingly.\n"
     ]
    }
   ],
   "source": [
    "#Question 30- Create a function in python to remove all words from a string of length between 2 and 4.\n",
    "#The use of the re.compile() method is mandatory.\n",
    "#Sample Text: \"The following example creates an ArrayList with a capacity of 50 elements. 4 elements are then added to the ArrayList and the ArrayList is trimmed accordingly.\"\n",
    "#Expected Output:  following example creates ArrayList a capacity elements. 4 elements added ArrayList ArrayList trimmed accordingly.\n",
    "\n",
    "import re\n",
    "\n",
    "def remove_words_between_length(text):\n",
    "    pattern = re.compile(r'\\b\\w{2,4}\\b')\n",
    "    cleaned_text = pattern.sub('', text)\n",
    "    return cleaned_text\n",
    "\n",
    "sample_text = \"The following example creates an ArrayList with a capacity of 50 elements. 4 elements are then added to the ArrayList and the ArrayList is trimmed accordingly.\"\n",
    "cleaned_text = remove_words_between_length(sample_text)\n",
    "print(cleaned_text)"
   ]
  },
  {
   "cell_type": "code",
   "execution_count": null,
   "id": "16c907af",
   "metadata": {},
   "outputs": [],
   "source": []
  }
 ],
 "metadata": {
  "kernelspec": {
   "display_name": "Python 3 (ipykernel)",
   "language": "python",
   "name": "python3"
  },
  "language_info": {
   "codemirror_mode": {
    "name": "ipython",
    "version": 3
   },
   "file_extension": ".py",
   "mimetype": "text/x-python",
   "name": "python",
   "nbconvert_exporter": "python",
   "pygments_lexer": "ipython3",
   "version": "3.9.13"
  }
 },
 "nbformat": 4,
 "nbformat_minor": 5
}
