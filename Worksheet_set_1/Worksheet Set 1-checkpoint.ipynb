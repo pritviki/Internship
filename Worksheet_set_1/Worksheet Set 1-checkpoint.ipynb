{
 "cells": [
  {
   "cell_type": "code",
   "execution_count": 1,
   "id": "a02d554e",
   "metadata": {},
   "outputs": [
    {
     "name": "stdout",
     "output_type": "stream",
     "text": [
      "Enter a number: 8\n",
      "The factorial of 8 is 40320\n"
     ]
    }
   ],
   "source": [
    "def factorial(n):\n",
    "    if n == 0 or n == 1:\n",
    "        return 1\n",
    "    else:\n",
    "        return n * factorial(n - 1)\n",
    "\n",
    "num = int(input(\"Enter a number: \"))\n",
    "result = factorial(num)\n",
    "print(f\"The factorial of {num} is {result}\")"
   ]
  },
  {
   "cell_type": "code",
   "execution_count": 2,
   "id": "18751362",
   "metadata": {},
   "outputs": [
    {
     "name": "stdout",
     "output_type": "stream",
     "text": [
      "Enter a number: 73\n",
      "73 is a prime number.\n"
     ]
    }
   ],
   "source": [
    "def is_prime(number):\n",
    "    if number <= 1:\n",
    "        return False\n",
    "    elif number <= 3:\n",
    "        return True\n",
    "    elif number % 2 == 0 or number % 3 == 0:\n",
    "        return False\n",
    "    \n",
    "    i = 5\n",
    "    while i * i <= number:\n",
    "        if number % i == 0 or number % (i + 2) == 0:\n",
    "            return False\n",
    "        i += 6\n",
    "    \n",
    "    return True\n",
    "\n",
    "num = int(input(\"Enter a number: \"))\n",
    "if is_prime(num):\n",
    "    print(f\"{num} is a prime number.\")\n",
    "else:\n",
    "    print(f\"{num} is a composite number.\")\n"
   ]
  },
  {
   "cell_type": "code",
   "execution_count": 3,
   "id": "9c2d6566",
   "metadata": {},
   "outputs": [
    {
     "name": "stdout",
     "output_type": "stream",
     "text": [
      "Enter a string: PRITAM\n",
      "The string is not a palindrome.\n"
     ]
    }
   ],
   "source": [
    "def is_palindrome(s):\n",
    "    s = s.lower().replace(\" \", \"\")\n",
    "    return s == s[::-1]\n",
    "\n",
    "string = input(\"Enter a string: \")\n",
    "if is_palindrome(string):\n",
    "    print(\"The string is a palindrome.\")\n",
    "else:\n",
    "    print(\"The string is not a palindrome.\")\n"
   ]
  },
  {
   "cell_type": "code",
   "execution_count": 4,
   "id": "ed495c17",
   "metadata": {},
   "outputs": [
    {
     "name": "stdout",
     "output_type": "stream",
     "text": [
      "Enter the length of the first side: 7\n",
      "Enter the length of the second side: 5\n",
      "The length of the third side is: 8.602325267042627\n"
     ]
    }
   ],
   "source": [
    "import math\n",
    "\n",
    "def find_third_side(side1, side2):\n",
    "    third_side = math.sqrt(side1**2 + side2**2)\n",
    "    return third_side\n",
    "\n",
    "side1 = float(input(\"Enter the length of the first side: \"))\n",
    "side2 = float(input(\"Enter the length of the second side: \"))\n",
    "third_side = find_third_side(side1, side2)\n",
    "print(f\"The length of the third side is: {third_side}\")\n"
   ]
  },
  {
   "cell_type": "code",
   "execution_count": 5,
   "id": "f7faa0b7",
   "metadata": {},
   "outputs": [
    {
     "name": "stdout",
     "output_type": "stream",
     "text": [
      "Enter a string: pritam saha\n",
      "'p': 1\n",
      "'r': 1\n",
      "'i': 1\n",
      "'t': 1\n",
      "'a': 3\n",
      "'m': 1\n",
      "' ': 1\n",
      "'s': 1\n",
      "'h': 1\n"
     ]
    }
   ],
   "source": [
    "def char_frequency(string):\n",
    "    freq = {}\n",
    "    for char in string:\n",
    "        if char in freq:\n",
    "            freq[char] += 1\n",
    "        else:\n",
    "            freq[char] = 1\n",
    "    return freq\n",
    "\n",
    "string = input(\"Enter a string: \")\n",
    "frequency = char_frequency(string)\n",
    "\n",
    "for char, count in frequency.items():\n",
    "    print(f\"'{char}': {count}\")"
   ]
  },
  {
   "cell_type": "code",
   "execution_count": null,
   "id": "5ce59846",
   "metadata": {},
   "outputs": [],
   "source": []
  }
 ],
 "metadata": {
  "kernelspec": {
   "display_name": "Python 3 (ipykernel)",
   "language": "python",
   "name": "python3"
  },
  "language_info": {
   "codemirror_mode": {
    "name": "ipython",
    "version": 3
   },
   "file_extension": ".py",
   "mimetype": "text/x-python",
   "name": "python",
   "nbconvert_exporter": "python",
   "pygments_lexer": "ipython3",
   "version": "3.9.13"
  }
 },
 "nbformat": 4,
 "nbformat_minor": 5
}
